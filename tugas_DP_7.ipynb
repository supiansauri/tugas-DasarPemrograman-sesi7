{
 "cells": [
  {
   "cell_type": "markdown",
   "id": "0a0752f9",
   "metadata": {},
   "source": [
    "## Tugas Sesi 7"
   ]
  },
  {
   "cell_type": "markdown",
   "id": "9202cebd",
   "metadata": {},
   "source": [
    "1. Buatlah programan untuk membalik sebuah kalimat, misal:\n",
    "\n",
    "   input : <b>\"LUPA-LUPA INGAT\"</b>\n",
    "\n",
    "    output : <b>\"TAGNI APUL-APUL\"</b>\n"
   ]
  },
  {
   "cell_type": "code",
   "execution_count": 7,
   "id": "3927b375",
   "metadata": {
    "scrolled": true
   },
   "outputs": [
    {
     "name": "stdout",
     "output_type": "stream",
     "text": [
      "masukan kalimat:LUPA-LUPA INGAT\n",
      "15\n",
      "kalimat terbalik:TAGNI APUL-APUL\n"
     ]
    }
   ],
   "source": [
    "kalimat = input(\"masukan kalimat:\")\n",
    "jumlah_huruf = len(kalimat)\n",
    "kalimat_terbalik = \"\"\n",
    "print(jumlah_huruf)\n",
    "\n",
    "for i in range(jumlah_huruf):\n",
    "    kalimat_terbalik += kalimat[jumlah_huruf-i-1]\n",
    "print(f\"kalimat terbalik:{kalimat_terbalik}\")"
   ]
  },
  {
   "cell_type": "markdown",
   "id": "3af69718",
   "metadata": {},
   "source": [
    "2. buatlah program untuk menghitung jumlah masing-masing huruf vokal, dengan output seperti ini:\n",
    "\n",
    "    kalimat : <b>\"Universitas Nusa Putera\"</b>\n",
    "\n",
    "    output :\n",
    "    <ul>\n",
    "    <li>Jumlah huruf A = 3\n",
    "    <li>Jumlah huruf I = 2\n",
    "    <li>Jumlah huruf U = 3\n",
    "    <li>Jumlah huruf E = 2\n",
    "    <li>Jumlah huruf O = 0\n",
    "\n",
    "    \n",
    "    Total jumlah huruf vokal = 10"
   ]
  },
  {
   "cell_type": "code",
   "execution_count": 14,
   "id": "3a893a3a",
   "metadata": {},
   "outputs": [
    {
     "name": "stdout",
     "output_type": "stream",
     "text": [
      "Jumlah huruf A : 3\n",
      "Jumlah huruf I : 2\n",
      "Jumlah huruf U : 3\n",
      "Jumlah huruf E : 2\n",
      "Jumlah huruf O : 0\n",
      "\n",
      "Total jumlah huruf vokal : 10 \n"
     ]
    }
   ],
   "source": [
    "kalimat = \"Universitas Nusa Putera\"\n",
    "a = 0\n",
    "i = 0 \n",
    "u = 0\n",
    "e = 0\n",
    "o = 0\n",
    "\n",
    "for k in kalimat:\n",
    "    if k ==\"a\" or k ==\"A\":\n",
    "        a += 1\n",
    "    elif k ==\"i\" or k ==\"I\":\n",
    "        i += 1\n",
    "    elif k ==\"u\" or k ==\"U\":\n",
    "        u += 1\n",
    "    elif k ==\"e\" or k ==\"E\":\n",
    "        e += 1\n",
    "    elif k ==\"o\" or k ==\"O\":\n",
    "        o += 1 \n",
    "total = a + i + u + e + o\n",
    "print(f\"Jumlah huruf A : {a}\")\n",
    "print(f\"Jumlah huruf I : {i}\")\n",
    "print(f\"Jumlah huruf U : {u}\")\n",
    "print(f\"Jumlah huruf E : {e}\")\n",
    "print(f\"Jumlah huruf O : {o}\")\n",
    "print(f\"\\nTotal jumlah huruf vokal : {total} \")"
   ]
  }
 ],
 "metadata": {
  "kernelspec": {
   "display_name": "Python 3 (ipykernel)",
   "language": "python",
   "name": "python3"
  },
  "language_info": {
   "codemirror_mode": {
    "name": "ipython",
    "version": 3
   },
   "file_extension": ".py",
   "mimetype": "text/x-python",
   "name": "python",
   "nbconvert_exporter": "python",
   "pygments_lexer": "ipython3",
   "version": "3.9.12"
  }
 },
 "nbformat": 4,
 "nbformat_minor": 5
}
